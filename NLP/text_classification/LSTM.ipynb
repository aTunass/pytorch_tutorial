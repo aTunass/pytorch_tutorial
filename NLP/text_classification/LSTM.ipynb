{
  "nbformat": 4,
  "nbformat_minor": 0,
  "metadata": {
    "colab": {
      "name": "LSTM.ipynb",
      "provenance": [],
      "collapsed_sections": [],
      "machine_shape": "hm"
    },
    "kernelspec": {
      "name": "python3",
      "display_name": "Python 3"
    },
    "language_info": {
      "name": "python"
    },
    "accelerator": "GPU"
  },
  "cells": [
    {
      "cell_type": "markdown",
      "metadata": {
        "id": "8Nee9skmIIuH"
      },
      "source": [
        "# The LSTM Network\n"
      ]
    },
    {
      "cell_type": "markdown",
      "metadata": {
        "id": "I2iNeZ4qIRmO"
      },
      "source": [
        "Long Short Term Memory networks - LSTM là một dạng của RNN được sử dụng nhằm khắc phục nhược điểm của mạng RNN truyền thống đó là vấn đề học các phụ thuộc dài hạn (long-term dependencies). Việc LSTM có thể khắc phục được vấn đề này bởi vì nó sử dụng 4 neural tương tác với nhau để hỗ trợ quá trình ghi nhớ, chỉnh sửa thông tin bên trong thay vì chỉ duy nhất 1 neural như với mô hình RNN.\n",
        "\n",
        "![image](https://colah.github.io/posts/2015-08-Understanding-LSTMs/img/LSTM3-chain.png)\n",
        "\n",
        "LSTM có thể hiểu cơ bản là sự lặp lại các module chứa các layer tương tác với nhau (Nguồn: [colah's blog](https://colah.github.io/posts/2015-08-Understanding-LSTMs/))"
      ]
    },
    {
      "cell_type": "markdown",
      "metadata": {
        "id": "jyd0FpQhZPMN"
      },
      "source": [
        "Về cơ bản LSTM là một ô trạng thái (cell state), nếu không có sự tương tác với các cổng bên dưới thì mỗi ô chỉ chứa duy nhất 1 đường thẳng  nằm trên cùng chạy ngang hết cell state. Do không có sự tương tác giữa các cổng nên thông tin cơ bản sẽ không bị thay đổi.\n",
        "\n",
        "![image](https://colah.github.io/posts/2015-08-Understanding-LSTMs/img/LSTM3-C-line.png)"
      ]
    },
    {
      "cell_type": "markdown",
      "metadata": {
        "id": "Wx6iHphicYD9"
      },
      "source": [
        "# Step-by-Step LSTM Walk Through"
      ]
    },
    {
      "cell_type": "markdown",
      "metadata": {
        "id": "gkcHbnIKcY2t"
      },
      "source": [
        "## The Forget Gate\n",
        "Cổng quên nơi sẽ nhận thông tin đầu vào và hidden state trước đó và áp dụng phép biến đổi tuyến tính cùng với sigmoid function. Đầu ra của hàm sigmoid sẽ cho ra một giá trị từ 0 đến 1. Nhờ tính chất này cổng quên có thể **quên đi** những thông tin phía trước khi kết quả của sigmoid function là 0. Ngược lại với một giá trị lớn hơn 0 sẽ đại diện cho việc chúng ta sẽ ghi nhớ bao nhiêu lượng thông tin đầu.\n",
        "\n",
        "![image](https://colah.github.io/posts/2015-08-Understanding-LSTMs/img/LSTM3-focus-f.png)"
      ]
    },
    {
      "cell_type": "markdown",
      "metadata": {
        "id": "E9xI_dJ7gkUN"
      },
      "source": [
        "Lượng thông tin $f_t$ sau đó sẽ được kết hợp với cell state trước đó. Ta có thể viết lại công thức như sau:\n",
        "\n",
        "$$\n",
        "f_t = \\sigma(U_fx_t+V_fh_{t-1}+b_f) \n",
        "$$\n",
        "\n",
        "$$\n",
        "C^{'}_t = f_tC_{t-1}\n",
        "$$\n",
        "\n",
        "Với $b_f$ là bias tại forget layer và $U_f, V_f$ là trọng số."
      ]
    },
    {
      "cell_type": "markdown",
      "metadata": {
        "id": "HVqcR8v4kL5Y"
      },
      "source": [
        "## Input gate"
      ]
    },
    {
      "cell_type": "markdown",
      "metadata": {
        "id": "x5HBc8gdkOWl"
      },
      "source": [
        "Cổng input được xem như là giải pháp cho việc lưu trữ thông tin dài hạn của LSTM. Tại đây input gate sẽ kết hợp giá trị giữa thông tin đầu vào và hidden state trước đó. Lượng thông tin sau cùng sẽ được kết hợp với lượng thông tin đầu ra tại cổng forget được minh họa dưới hình sau\n",
        "\n",
        "![imageimage](https://colah.github.io/posts/2015-08-Understanding-LSTMs/img/LSTM3-focus-i.png)"
      ]
    },
    {
      "cell_type": "markdown",
      "metadata": {
        "id": "LqGUE5tolLzv"
      },
      "source": [
        "Với $b_i, U_i, V_i$ lần lượt là bias và trọng số tương ứng với input layer. $b_c, U_c, V_c$ lần lượt là bias và trọng số tương ứng với concat layer. Hàm sigmoid tại input layer đại diện cho việc chúng ta sẽ sử dụng bao nhiêu lượng thông tin đầu vào. Hàm tanh sẽ thể hiện cho việc quyết định lấy lượng thông tin gốc hay không. \n",
        "\n",
        "$$\n",
        "i_t = \\sigma(U_ix_t + V_ih_{t-1} + b_i)\n",
        "$$\n",
        "\n",
        "$$\n",
        "C^+_t = tanh(U_cx_t + V_ch_{t-1} + b_c)\n",
        "$$\n",
        "\n",
        "$$\n",
        "C_t = C^{'}_t + i_tC^+_t\n",
        "$$"
      ]
    },
    {
      "cell_type": "markdown",
      "metadata": {
        "id": "8xYzvEvPQga0"
      },
      "source": [
        "## Output gate\n",
        "Với cổng output chúng ta sẽ quyết định những thông tin nào sẽ được đi ra. Đầu tiên sử dụng sigmoid để lấy một phần thông tin đầu vào và hidden state. Tiếp theo kết quả sẽ được tính toán với cell state bên trong hàm tanh để cho ra phần thông tin cuối cùng.\n",
        "\n",
        "![imageimage](https://colah.github.io/posts/2015-08-Understanding-LSTMs/img/LSTM3-focus-o.png)"
      ]
    },
    {
      "cell_type": "markdown",
      "metadata": {
        "id": "ZVN8PBBrSweH"
      },
      "source": [
        "Với $b_o, U_o, V_o$ lần lượt là bias và trọng số tương ứng với output layer.\n",
        "\n",
        "$$\n",
        "o_t = \\sigma(U_ox_t+V_oh_{t-1}+b_o)\n",
        "$$\n",
        "\n",
        "$$\n",
        "h_t = o_t tanh(C_t)\n",
        "$$"
      ]
    },
    {
      "cell_type": "markdown",
      "metadata": {
        "id": "nymtaLlSUput"
      },
      "source": [
        "# Thực nghiệm\n",
        "Sử dụng Tweet dataset được cung cấp bởi cuộc thi \"Natural Language Processing with Disaster Tweets: Predict which Tweets are about real disasters and which ones are not\" trên [**kaggle**](https://www.kaggle.com/c/nlp-getting-started)"
      ]
    },
    {
      "cell_type": "markdown",
      "metadata": {
        "id": "Ibqy2h6MUyeg"
      },
      "source": [
        "## Download data"
      ]
    },
    {
      "cell_type": "code",
      "metadata": {
        "id": "zLeSQ-OxH6It",
        "colab": {
          "base_uri": "https://localhost:8080/"
        },
        "outputId": "6a8690ec-3110-4655-8674-a33dc1ef9c08"
      },
      "source": [
        "!gdown --id 1jk4z9Cz1zYWrDR56x2t-jLm3dHR71TlR"
      ],
      "execution_count": 1,
      "outputs": [
        {
          "output_type": "stream",
          "name": "stdout",
          "text": [
            "Downloading...\n",
            "From: https://drive.google.com/uc?id=1jk4z9Cz1zYWrDR56x2t-jLm3dHR71TlR\n",
            "To: /content/tweets.csv\n",
            "\r  0% 0.00/996k [00:00<?, ?B/s]\r100% 996k/996k [00:00<00:00, 67.7MB/s]\n"
          ]
        }
      ]
    },
    {
      "cell_type": "markdown",
      "metadata": {
        "id": "4X13EKkMU6z-"
      },
      "source": [
        "## Download glove embeddings"
      ]
    },
    {
      "cell_type": "markdown",
      "metadata": {
        "id": "yGUIn0ftVzsh"
      },
      "source": [
        "## Libs"
      ]
    },
    {
      "cell_type": "code",
      "metadata": {
        "id": "_YsBSy6tV0rz"
      },
      "source": [
        "import re \n",
        "import os\n",
        "import random\n",
        "import math\n",
        "import numpy as np \n",
        "import pandas as pd \n",
        "import matplotlib.pyplot as plt\n",
        "import pandas as pd \n",
        "import string as pystring \n",
        "\n",
        "from typing import List\n",
        "from collections import Counter \n",
        "from itertools import chain \n",
        "from tqdm import tqdm \n",
        "from sklearn.model_selection import train_test_split\n",
        "\n",
        "import torch\n",
        "import torch.nn as nn \n",
        "import torch.optim as optim \n",
        "import torch.nn.functional as F \n",
        "from torch.utils.data import Dataset, DataLoader \n",
        "\n",
        "from torchtext.vocab import Vectors, GloVe\n",
        "from torchtext.legacy.data import Field, LabelField, Pipeline, TabularDataset, BucketIterator, Dataset \n",
        "from sklearn.metrics import accuracy_score, precision_score, recall_score, f1_score"
      ],
      "execution_count": 2,
      "outputs": []
    },
    {
      "cell_type": "markdown",
      "metadata": {
        "id": "vhKsV3XVuyAK"
      },
      "source": [
        "## Create dataset"
      ]
    },
    {
      "cell_type": "code",
      "metadata": {
        "id": "V8UJVshcuzZG"
      },
      "source": [
        "df = pd.read_csv(\"tweets.csv\")\n",
        "df = df.drop(columns=['id', 'keyword', 'location'])"
      ],
      "execution_count": 3,
      "outputs": []
    },
    {
      "cell_type": "code",
      "metadata": {
        "colab": {
          "base_uri": "https://localhost:8080/"
        },
        "id": "2i2ivi7NvXew",
        "outputId": "cbb05d5e-5213-41d1-dec1-20798bf2ba0f"
      },
      "source": [
        "df_train, df_test = train_test_split(df, shuffle=True)\n",
        "df_train, df_val = train_test_split(df_train, shuffle=True)\n",
        "print(df_train.shape, df_test.shape, df_val.shape)"
      ],
      "execution_count": 4,
      "outputs": [
        {
          "output_type": "stream",
          "name": "stdout",
          "text": [
            "(4281, 2) (1904, 2) (1428, 2)\n"
          ]
        }
      ]
    },
    {
      "cell_type": "code",
      "metadata": {
        "id": "8aK-hwYEwEbz"
      },
      "source": [
        "df_train.to_csv(\"train.csv\", index=False)\n",
        "df_test.to_csv(\"test.csv\", index=False)\n",
        "df_val.to_csv(\"val.csv\", index=False)"
      ],
      "execution_count": 5,
      "outputs": []
    },
    {
      "cell_type": "markdown",
      "metadata": {
        "id": "ISpKXcocV4t_"
      },
      "source": [
        "## Preprocess text"
      ]
    },
    {
      "cell_type": "code",
      "metadata": {
        "id": "-dzLjfBLV7ym"
      },
      "source": [
        "def preprocess_text(string):\n",
        "  p = re.compile(r'<[^<>]+>')\n",
        "  string = p.sub(\" \", string)\n",
        "  replace_chars = [\"\\n\", \"\\t\", \"_\"] + list(pystring.punctuation)\n",
        "  for char in replace_chars:\n",
        "    string = string.replace(char, \" \")\n",
        "  \n",
        "  return string.lower()"
      ],
      "execution_count": 6,
      "outputs": []
    },
    {
      "cell_type": "code",
      "metadata": {
        "id": "Um7cVUJkV9YN"
      },
      "source": [
        "def load_data(input_dir, source_dir=None, batch_size=16, max_vocab=40000, min_freq=20, glove_dim=300, glove_name=\"6B\"):\n",
        "  # Read csv, preprocessing\n",
        "  print(\"[INFO] Preprocessing Data\")\n",
        "  if source_dir != None:\n",
        "      load_data_from_file(source_dir, input_path)\n",
        "  \n",
        "  tokenize = lambda x: x.split()\n",
        "  text_field = Field(sequential=True, tokenize=tokenize, lower=True, include_lengths=True, batch_first=True) # include lenth = 1000\n",
        "  label_field = LabelField()\n",
        "  \n",
        "  fields = [('text', text_field), ('target', label_field)]\n",
        "\n",
        "  train, valid, test = TabularDataset.splits(path=input_dir,\n",
        "                                             train='train.csv',\n",
        "                                             validation='val.csv',\n",
        "                                             test='train.csv',\n",
        "                                             format='CSV', fields=fields, skip_header=True)\n",
        "  \n",
        "  text_field.build_vocab(train, max_size=max_vocab, min_freq=min_freq, vectors=GloVe(name=glove_name, dim=glove_dim))\n",
        "  label_field.build_vocab(train)\n",
        "  word_embeddings = text_field.vocab.vectors\n",
        "  vocab_size = len(text_field.vocab)\n",
        "\n",
        "  print (\"[INFO] Length of Text Vocabulary: \" + str(len(text_field.vocab)))\n",
        "  print (\"[INFO] Vector size of Text Vocabulary: \", text_field.vocab.vectors.size())\n",
        "  print (\"[INFO] Label Length: \" + str(len(label_field.vocab)))\n",
        "\n",
        "  train_loader, valid_loader, test_loader = BucketIterator.splits((train, valid, test),\n",
        "                                                              batch_size=32, sort_key=lambda x: len(x.text),\n",
        "                                                              repeat=False, sort=True, shuffle=True)\n",
        "  \n",
        "  return text_field, vocab_size, word_embeddings, train_loader, valid_loader, test_loader"
      ],
      "execution_count": 7,
      "outputs": []
    },
    {
      "cell_type": "code",
      "metadata": {
        "colab": {
          "base_uri": "https://localhost:8080/"
        },
        "id": "5UVp7IjQV_Tw",
        "outputId": "68bd9c75-f082-4599-b91e-6c8454e48c57"
      },
      "source": [
        "text_field, vocab_size, word_embeddings, train_loader, valid_loader, test_loader = load_data(\".\")"
      ],
      "execution_count": 8,
      "outputs": [
        {
          "output_type": "stream",
          "name": "stdout",
          "text": [
            "[INFO] Preprocessing Data\n"
          ]
        },
        {
          "output_type": "stream",
          "name": "stderr",
          "text": [
            ".vector_cache/glove.6B.zip: 862MB [02:41, 5.34MB/s]                           \n",
            "100%|█████████▉| 399999/400000 [00:48<00:00, 8299.98it/s]\n"
          ]
        },
        {
          "output_type": "stream",
          "name": "stdout",
          "text": [
            "[INFO] Length of Text Vocabulary: 371\n",
            "[INFO] Vector size of Text Vocabulary:  torch.Size([371, 300])\n",
            "[INFO] Label Length: 2\n"
          ]
        }
      ]
    },
    {
      "cell_type": "code",
      "metadata": {
        "id": "8alrXtiMbK4H"
      },
      "source": [
        "class LSTMClassifier(nn.Module):\n",
        "  def __init__(self, vocab_size, output_size=2, hidden_size=256, embedding_size=300, weights=None, dropout_ratio=0.5, LSTM_layers=1):\n",
        "    super(LSTMClassifier, self).__init__()\n",
        "\n",
        "    self.output_size = output_size\n",
        "    self.hidden_size = hidden_size\n",
        "    self.vocab_size = vocab_size\n",
        "    self.embedding_size = embedding_size\n",
        "\n",
        "    self.word_embeddings = nn.Embedding(vocab_size, embedding_size)\n",
        "    if weights != None:\n",
        "      self.word_embeddings.weight = nn.Parameter(weights, requires_grad=False)\n",
        "\n",
        "    self.lstm = nn.LSTM(embedding_size, hidden_size, LSTM_layers, batch_first=True, dropout=dropout_ratio)\n",
        "    self.fc = nn.Linear(hidden_size, output_size)\n",
        "\n",
        "\n",
        "  def forward(self, input):\n",
        "    input_embedding = self.word_embeddings(input)\n",
        "\n",
        "    output_lstm, (final_hidden_state, final_cell_state) = self.lstm(input_embedding)\n",
        "\n",
        "    final_output = self.fc(final_hidden_state[-1,:,:])\n",
        "    final_output = torch.squeeze(final_output)\n",
        "\n",
        "    return final_output"
      ],
      "execution_count": 9,
      "outputs": []
    },
    {
      "cell_type": "markdown",
      "metadata": {
        "id": "agwwBRUXd021"
      },
      "source": [
        "## Train"
      ]
    },
    {
      "cell_type": "code",
      "metadata": {
        "colab": {
          "base_uri": "https://localhost:8080/"
        },
        "id": "tm0ug8h_d11X",
        "outputId": "7587f4fd-263d-4c75-f051-2ee04efbd152"
      },
      "source": [
        "device = torch.device('cuda' if torch.cuda.is_available() else 'cpu')\n",
        "model = LSTMClassifier(vocab_size=vocab_size, weights=word_embeddings)\n",
        "model.to(device)\n",
        "optimizer = optim.Adam(model.parameters(), lr=0.001)"
      ],
      "execution_count": 10,
      "outputs": [
        {
          "output_type": "stream",
          "name": "stderr",
          "text": [
            "/usr/local/lib/python3.7/dist-packages/torch/nn/modules/rnn.py:65: UserWarning: dropout option adds dropout after all but last recurrent layer, so non-zero dropout expects num_layers greater than 1, but got dropout=0.5 and num_layers=1\n",
            "  \"num_layers={}\".format(dropout, num_layers))\n"
          ]
        }
      ]
    },
    {
      "cell_type": "code",
      "metadata": {
        "id": "tbae73nieGWZ"
      },
      "source": [
        "def evaluate(model, val_loader):\n",
        "    model.eval()\n",
        "    valid_loss = 0\n",
        "    nparr_predict_all = np.array([], dtype=int)\n",
        "    nparr_label_all = np.array([], dtype=int)\n",
        "    with torch.no_grad():\n",
        "        for _ , (data, label) in enumerate(val_loader):      \n",
        "            (input, len_input) = data     \n",
        "            input = input.to(device)\n",
        "            label = label.to(device)\n",
        "\n",
        "            y_pred = model(input)\n",
        "\n",
        "            loss = F.cross_entropy(y_pred, label)\n",
        "\n",
        "            valid_loss += loss.item()\n",
        "\n",
        "            label = label.data.cpu().numpy()\n",
        "            predict = torch.max(y_pred.data, 1)[1].cpu().numpy()\n",
        "            nparr_label_all = np.append(nparr_label_all, label)\n",
        "            nparr_predict_all = np.append(nparr_predict_all, predict)\n",
        "    \n",
        "    val_epoch_loss = valid_loss / len(val_loader)\n",
        "    val_epoch_acc = accuracy_score(nparr_label_all, nparr_predict_all)\n",
        "    val_precision = precision_score(nparr_label_all, nparr_predict_all)\n",
        "    val_recall= recall_score(nparr_label_all, nparr_predict_all)\n",
        "    val_f1_score = f1_score(nparr_label_all, nparr_predict_all)\n",
        "\n",
        "    return val_epoch_loss, val_epoch_acc, val_precision, val_recall, val_f1_score\n",
        "\n",
        "def train_model(model, model_dir, model_name, train_loader, val_loader, optimizer, n_epochs=25, eval_every=100):\n",
        "    \"\"\"returns trained model\"\"\"\n",
        "    # initialize tracker for minimum validation loss\n",
        "    new_model_dir = os.path.join(model_dir, model_name)\n",
        "    if not os.path.exists(new_model_dir):\n",
        "      os.mkdir(new_model_dir)\n",
        "\n",
        "    valid_loss_min = np.Inf\n",
        "    global_step = 0 \n",
        "    global_steps_list = []\n",
        "    train_loss_list, train_acc_list = [], []\n",
        "    valid_loss_list, valid_acc_list = [], []\n",
        "\n",
        "    train_precision_list, valid_precision_list = [], []\n",
        "    train_recall_list, valid_recall_list = [], []\n",
        "    train_f1_list, valid_f1_list = [], []\n",
        "\n",
        "    # train the model \n",
        "    model.train()\n",
        "    for epoch in range(1, n_epochs):\n",
        "        train_loss = 0\n",
        "\n",
        "        nparr_predict_all = np.array([], dtype=int)\n",
        "        nparr_label_all = np.array([], dtype=int)\n",
        "        for _ , (data, label) in enumerate(train_loader):\n",
        "            (input, len_input) = data         \n",
        "            input = input.to(device)\n",
        "            label = label.to(device)\n",
        "\n",
        "            y_pred = model(input)\n",
        "\n",
        "            loss = F.cross_entropy(y_pred, label)\n",
        "            optimizer.zero_grad()\n",
        "            loss.backward()\n",
        "            optimizer.step()\n",
        "\n",
        "            # update running value\n",
        "            train_loss += loss.item()\n",
        "            global_step += 1\n",
        "\n",
        "            label = label.data.cpu().numpy()\n",
        "            predict = torch.max(y_pred.data, 1)[1].cpu().numpy()\n",
        "            nparr_label_all = np.append(nparr_label_all, label)\n",
        "            nparr_predict_all = np.append(nparr_predict_all, predict)\n",
        "        \n",
        "        train_epoch_loss = train_loss / len(train_loader)\n",
        "        train_epoch_acc = accuracy_score(nparr_label_all, nparr_predict_all)\n",
        "        train_precision = precision_score(nparr_label_all, nparr_predict_all)\n",
        "        train_recall= recall_score(nparr_label_all, nparr_predict_all)\n",
        "        train_f1_score = f1_score(nparr_label_all, nparr_predict_all)\n",
        "                    \n",
        "        # validate the model \n",
        "        val_epoch_loss, val_epoch_acc, val_precision, val_recall, val_f1_score = evaluate(model, val_loader)\n",
        "\n",
        "        # add history\n",
        "        train_loss_list.append(train_epoch_loss) \n",
        "        train_acc_list.append(train_epoch_acc)\n",
        "        train_precision_list.append(train_precision)\n",
        "        train_recall_list.append(train_recall)\n",
        "        train_f1_list.append(train_f1_score)\n",
        "\n",
        "        valid_loss_list.append(val_epoch_loss)\n",
        "        valid_acc_list.append(val_epoch_acc)\n",
        "        valid_precision_list.append(val_precision)\n",
        "        valid_recall_list.append(val_recall)\n",
        "        valid_f1_list.append(val_f1_score)\n",
        "\n",
        "        # reset training\n",
        "        model.train()\n",
        "        \n",
        "        # print training/validation statistics \n",
        "        print('Epoch: {}, Training Loss: {:.6f}, Training Acc: {:.6} || Validation Loss: {:.6f}, Validation Acc: {:.6f}'.\n",
        "              format(epoch, train_epoch_loss, train_epoch_acc, val_epoch_loss, val_epoch_acc))\n",
        "        \n",
        "        ## TODO: save the model if validation loss has decreased\n",
        "        if val_epoch_loss < valid_loss_min:\n",
        "            save_model_name = \"{}_loss_{:.6f}_acc_{:.6f}.pt\".format(model_name, val_epoch_loss, val_epoch_acc)\n",
        "            model_path = os.path.join(new_model_dir, save_model_name)\n",
        "            torch.save(model, model_path)\n",
        "            print('Validation loss decreased ({:.6f} --> {:.6f}).  Saving {} ....'.format(\n",
        "            valid_loss_min,\n",
        "            val_epoch_loss,\n",
        "            model_path))\n",
        "            valid_loss_min = val_epoch_loss\n",
        "        \n",
        "            \n",
        "    # return trained model\n",
        "    return model, save_model_name, train_loss_list, train_acc_list, valid_loss_list, valid_acc_list"
      ],
      "execution_count": 11,
      "outputs": []
    },
    {
      "cell_type": "code",
      "metadata": {
        "colab": {
          "base_uri": "https://localhost:8080/"
        },
        "id": "YoIlXVWBfSyJ",
        "outputId": "01b8de91-c207-4053-d831-d8d1eaf44054"
      },
      "source": [
        "model_dir = \"models\"\n",
        "model_name = \"lstm\"\n",
        "if not os.path.exists(model_dir):\n",
        "  os.mkdir(model_dir)\n",
        "\n",
        "trained_model, save_model_name, train_loss_list, train_acc_list, valid_loss_list, valid_acc_list = \\\n",
        "    train_model(model, model_dir, model_name, train_loader, valid_loader, optimizer, n_epochs=5, eval_every=100)"
      ],
      "execution_count": 12,
      "outputs": [
        {
          "output_type": "stream",
          "name": "stdout",
          "text": [
            "Epoch: 1, Training Loss: 0.578326, Training Acc: 0.697267 || Validation Loss: 0.555395, Validation Acc: 0.721289\n",
            "Validation loss decreased (inf --> 0.555395).  Saving models/lstm/lstm_loss_0.555395_acc_0.721289.pt ....\n",
            "Epoch: 2, Training Loss: 0.529002, Training Acc: 0.750759 || Validation Loss: 0.582289, Validation Acc: 0.706583\n",
            "Epoch: 3, Training Loss: 0.517674, Training Acc: 0.758 || Validation Loss: 0.619588, Validation Acc: 0.640756\n",
            "Epoch: 4, Training Loss: 0.519845, Training Acc: 0.758234 || Validation Loss: 0.582466, Validation Acc: 0.704482\n"
          ]
        }
      ]
    },
    {
      "cell_type": "code",
      "metadata": {
        "colab": {
          "base_uri": "https://localhost:8080/",
          "height": 323
        },
        "id": "A48qbmU24XzD",
        "outputId": "b82bbfbf-eb19-48cf-94ea-f9704f0edbc9"
      },
      "source": [
        "plt.style.use('seaborn')\n",
        "train_losses = np.array(train_loss_list)\n",
        "valid_losses = np.array(valid_loss_list)\n",
        "\n",
        "fig, ax = plt.subplots(figsize=(8, 4.5))\n",
        "\n",
        "ax.plot(train_losses, color=\"blue\", label=\"Training_losses\")\n",
        "ax.plot(valid_losses, color=\"red\", label=\"Valid_losses\")\n",
        "ax.set(title=\"Loss over epochs\",\n",
        "       xlabel=\"Epoch\",\n",
        "       ylabel=\"loss\")\n",
        "ax.legend()\n",
        "fig.show()\n",
        "\n",
        "plt.style.use('default')"
      ],
      "execution_count": 13,
      "outputs": [
        {
          "output_type": "display_data",
          "data": {
            "image/png": "[encoded data removed]",
            "text/plain": [
              "<Figure size 576x324 with 1 Axes>"
            ]
          },
          "metadata": {}
        }
      ]
    },
    {
      "cell_type": "code",
      "metadata": {
        "colab": {
          "base_uri": "https://localhost:8080/",
          "height": 450
        },
        "id": "u-36yrhi4aeT",
        "outputId": "25c6c68a-8961-4599-d8c8-88b72a64a748"
      },
      "source": [
        "plt.style.use('seaborn')\n",
        "train_acc = np.array(train_acc_list)\n",
        "valid_acc= np.array(valid_acc_list)\n",
        "\n",
        "fig, ax = plt.subplots(figsize=(8, 4.5))\n",
        "\n",
        "ax.plot(train_acc, color=\"blue\", label=\"Training_acc\")\n",
        "ax.plot(valid_acc, color=\"red\", label=\"Valid_acc\")\n",
        "ax.set(title=\"Accuracy over epochs\",\n",
        "       xlabel=\"Epoch\",\n",
        "       ylabel=\"Acc\")\n",
        "ax.legend()\n",
        "fig.show()\n",
        "\n",
        "plt.style.use('default')"
      ],
      "execution_count": 14,
      "outputs": [
        {
          "output_type": "display_data",
          "data": {
            "image/png": "[encoded data removed]",
            "text/plain": [
              "<Figure size 800x450 with 1 Axes>"
            ]
          },
          "metadata": {}
        }
      ]
    },
    {
      "cell_type": "markdown",
      "metadata": {
        "id": "fFjE42yQjS3F"
      },
      "source": [
        "## Test"
      ]
    },
    {
      "cell_type": "code",
      "metadata": {
        "id": "3xOAFBTijUP0"
      },
      "source": [
        "loaded_model = torch.load(\"model.pt\")"
      ],
      "execution_count": 17,
      "outputs": []
    },
    {
      "cell_type": "code",
      "metadata": {
        "id": "uFlX107QkIpE"
      },
      "source": [
        "test_loss, test_acc, test_precision, test_recall, test_f1_score = evaluate(model, test_loader)"
      ],
      "execution_count": 19,
      "outputs": []
    },
    {
      "cell_type": "code",
      "metadata": {
        "colab": {
          "base_uri": "https://localhost:8080/"
        },
        "id": "zsm8jPvekVXg",
        "outputId": "975b6ae6-9599-4103-bbf4-48b757d3e367"
      },
      "source": [
        "print(\"test_acc: \", test_acc)\n",
        "print(\"test_precision: \", test_precision)\n",
        "print(\"test_recall: \", test_recall)\n",
        "print(\"test_f1_score: \", test_f1_score)"
      ],
      "execution_count": 20,
      "outputs": [
        {
          "output_type": "stream",
          "name": "stdout",
          "text": [
            "test_acc:  0.7175893482831114\n",
            "test_precision:  0.8478260869565217\n",
            "test_recall:  0.42184964845862627\n",
            "test_f1_score:  0.5633802816901408\n"
          ]
        }
      ]
    }
  ]
}