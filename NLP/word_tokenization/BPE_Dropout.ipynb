{
  "nbformat": 4,
  "nbformat_minor": 0,
  "metadata": {
    "colab": {
      "name": "BPE-Dropout",
      "provenance": [],
      "collapsed_sections": []
    },
    "kernelspec": {
      "name": "python3",
      "display_name": "Python 3"
    },
    "language_info": {
      "name": "python"
    }
  },
  "cells": [
    {
      "cell_type": "markdown",
      "metadata": {
        "id": "AAhS5ngxU2VT"
      },
      "source": [
        "# PBE-dropout algorithm"
      ]
    },
    {
      "cell_type": "markdown",
      "metadata": {
        "id": "Blmt35q2XY2i"
      },
      "source": [
        "![image](https://github.com/anminhhung/images/blob/main/nlp/bpe-dropout.png?raw=true)\n",
        "\n",
        "- [Source](https://slideslive.com/38928817/bpedropout-simple-and-effective-subword-regularization)"
      ]
    },
    {
      "cell_type": "markdown",
      "metadata": {
        "id": "mW3W5v8WX42S"
      },
      "source": [
        "# Build vocab"
      ]
    },
    {
      "cell_type": "code",
      "metadata": {
        "id": "_mJa4omARCYw"
      },
      "source": [
        "sentences = [\"low\", \"low\", \"low\", \"low\", \"low\", \"lower\", \"lower\", \"newest\", \"newest\", \\\n",
        "             \"newest\", \"newest\", \"newest\", \"newest\", \"widest\", \"widest\", \"widest\", \"happier\", \"happier\"]"
      ],
      "execution_count": 39,
      "outputs": []
    },
    {
      "cell_type": "code",
      "metadata": {
        "id": "NfWKX7lSSj0x"
      },
      "source": [
        "corpus = \" \".join(sentences[:])\n",
        "corpus_length = 0\n",
        "for sentence in sentences:\n",
        "  for word in sentence:\n",
        "    if word != \" \":\n",
        "      corpus_length += 1"
      ],
      "execution_count": 40,
      "outputs": []
    },
    {
      "cell_type": "code",
      "metadata": {
        "colab": {
          "base_uri": "https://localhost:8080/"
        },
        "id": "zHldUyH4Ygyq",
        "outputId": "af020f09-61f5-40ab-8bb6-395dbf940233"
      },
      "source": [
        "print(\"corpus_length: \", corpus_length)\n",
        "print(\"corpus: \", corpus)"
      ],
      "execution_count": 41,
      "outputs": [
        {
          "output_type": "stream",
          "name": "stdout",
          "text": [
            "corpus_length:  93\n",
            "corpus:  low low low low low lower lower newest newest newest newest newest newest widest widest widest happier happier\n"
          ]
        }
      ]
    },
    {
      "cell_type": "markdown",
      "metadata": {
        "id": "T6ZCEYhPYvoS"
      },
      "source": [
        "build vocab"
      ]
    },
    {
      "cell_type": "code",
      "metadata": {
        "id": "tXkvdN49YwyK"
      },
      "source": [
        "# processs.....\n",
        "vocab = {\n",
        "    'l o w </w>': 5,\n",
        "    'l o w e r </w>': 2,\n",
        "    'n e w e s t </w>': 6,\n",
        "    'w i d e s t </w>': 3,\n",
        "    'h a p p i e r </w>': 2\n",
        "}"
      ],
      "execution_count": 53,
      "outputs": []
    },
    {
      "cell_type": "markdown",
      "metadata": {
        "id": "Mt07XFndXurJ"
      },
      "source": [
        "# Train BPE-Dropout"
      ]
    },
    {
      "cell_type": "code",
      "metadata": {
        "id": "fE_vQshzawaq"
      },
      "source": [
        "from operator import itemgetter\n",
        "import re\n",
        "from typing import Dict, Tuple, List, Set "
      ],
      "execution_count": 43,
      "outputs": []
    },
    {
      "cell_type": "code",
      "metadata": {
        "id": "kOE92DV7Tyfh"
      },
      "source": [
        "def calculate_word_probability(word: str, corpus: str, corpus_length: int, smooth_params=0.001):\n",
        "  return (corpus.count(word) + smooth_params) / corpus_length"
      ],
      "execution_count": 44,
      "outputs": []
    },
    {
      "cell_type": "code",
      "metadata": {
        "id": "5pbDHSQvaoVL"
      },
      "source": [
        "def get_pair_stats(voacb: Dict[str, int]) -> Dict[Tuple[str, str], int]:\n",
        "  pairs = {}\n",
        "  for word, freq in vocab.items():\n",
        "    symbols = word.split()\n",
        "    for i in range(len(symbols) - 1):\n",
        "      pair = (symbols[i], symbols[i+1])\n",
        "      current_freq = pairs.get(pair, 0)\n",
        "      pairs[pair] = current_freq + freq\n",
        "\n",
        "  return pairs"
      ],
      "execution_count": 45,
      "outputs": []
    },
    {
      "cell_type": "code",
      "metadata": {
        "colab": {
          "base_uri": "https://localhost:8080/"
        },
        "id": "j7cM0HKRa1pD",
        "outputId": "4460b6cd-f7d2-43e9-ebca-1d48f5612cb0"
      },
      "source": [
        "pair_stats = get_pair_stats(vocab)\n",
        "pair_stats"
      ],
      "execution_count": 46,
      "outputs": [
        {
          "output_type": "execute_result",
          "data": {
            "text/plain": [
              "{('a', 'p'): 2,\n",
              " ('d', 'e'): 3,\n",
              " ('e', 'r'): 4,\n",
              " ('e', 's'): 9,\n",
              " ('e', 'w'): 6,\n",
              " ('h', 'a'): 2,\n",
              " ('i', 'd'): 3,\n",
              " ('i', 'e'): 2,\n",
              " ('l', 'o'): 7,\n",
              " ('n', 'e'): 6,\n",
              " ('o', 'w'): 7,\n",
              " ('p', 'i'): 2,\n",
              " ('p', 'p'): 2,\n",
              " ('r', '</w>'): 4,\n",
              " ('s', 't'): 9,\n",
              " ('t', '</w>'): 9,\n",
              " ('w', '</w>'): 5,\n",
              " ('w', 'e'): 8,\n",
              " ('w', 'i'): 3}"
            ]
          },
          "metadata": {},
          "execution_count": 46
        }
      ]
    },
    {
      "cell_type": "code",
      "metadata": {
        "id": "Mwd4nRpYbFST"
      },
      "source": [
        "def compute_pair_probability(current_pair: Tuple[str, str]):\n",
        "  first_word_prob = calculate_word_probability(current_pair[0], corpus, corpus_length)\n",
        "  second_word_prob = calculate_word_probability(current_pair[1], corpus, corpus_length)\n",
        "\n",
        "  return first_word_prob * second_word_prob"
      ],
      "execution_count": 47,
      "outputs": []
    },
    {
      "cell_type": "code",
      "metadata": {
        "id": "ocX--kBpfY4N"
      },
      "source": [
        "def compute_probability_in_pair_stats(pair_stats: Dict[Tuple[str, str], int]):\n",
        "  \"\"\" return decrease sorted dict \"\"\"\n",
        "  dict_pair_prob = {}\n",
        "  for pair, count in pair_stats.items():\n",
        "    prob_pair = compute_pair_probability(pair)\n",
        "    dict_pair_prob[pair] = prob_pair\n",
        "  \n",
        "  return dict_pair_prob"
      ],
      "execution_count": 48,
      "outputs": []
    },
    {
      "cell_type": "code",
      "metadata": {
        "colab": {
          "base_uri": "https://localhost:8080/"
        },
        "id": "8dFviIL5j5Zn",
        "outputId": "3894655b-4de9-4175-c117-a5dff54a9b7e"
      },
      "source": [
        "pair_stats_prob = compute_probability_in_pair_stats(pair_stats)\n",
        "print(pair_stats_prob)\n",
        "best_pair = max(pair_stats_prob, key=pair_stats.get)\n",
        "print(\"best_pair: \", best_pair)"
      ],
      "execution_count": 49,
      "outputs": [
        {
          "output_type": "stream",
          "name": "stdout",
          "text": [
            "{('l', 'o'): 0.005667013643195747, ('o', 'w'): 0.012952133310209276, ('w', '</w>'): 1.8500404671060242e-06, ('w', 'e'): 0.03515261891548157, ('e', 'r'): 0.008789802404902302, ('r', '</w>'): 4.625968320036999e-07, ('n', 'e'): 0.013183605156665513, ('e', 'w'): 0.03515261891548157, ('e', 's'): 0.019774309284310326, ('s', 't'): 0.00936732581801364, ('t', '</w>'): 1.0406983466296682e-06, ('w', 'i'): 0.009252052375997227, ('i', 'd'): 0.0017352296219216095, ('d', 'e'): 0.006592901029020696, ('h', 'a'): 0.0004629438085327783, ('a', 'p'): 0.0009256562608394034, ('p', 'p'): 0.0018508499248468034, ('p', 'i'): 0.002313446756850503, ('i', 'e'): 0.010986703780783907}\n",
            "best_pair:  ('e', 's')\n"
          ]
        }
      ]
    },
    {
      "cell_type": "code",
      "metadata": {
        "id": "2M_fXEkqa4Xz"
      },
      "source": [
        "def merge_vocab(best_pair: Tuple[str, str], vocab_in: Dict[str, int]) -> Dict[str, int]:\n",
        "  vocab_out = {}\n",
        "  pattern = re.escape(' '.join(best_pair))\n",
        "  replacement = ''.join(best_pair)\n",
        "\n",
        "  for word_in in vocab_in:\n",
        "    word_out = re.sub(pattern, replacement, word_in)\n",
        "    vocab_out[word_out] = vocab_in[word_in]\n",
        "  \n",
        "  return vocab_out"
      ],
      "execution_count": 50,
      "outputs": []
    },
    {
      "cell_type": "code",
      "metadata": {
        "colab": {
          "base_uri": "https://localhost:8080/"
        },
        "id": "upDAUG5kcHlc",
        "outputId": "db284008-b9e1-4fce-ef34-ccd1e968426c"
      },
      "source": [
        "best_pair = max(pair_stats_prob, key=pair_stats.get)\n",
        "print(\"best_pair: \", best_pair)\n",
        "prob_merge_pair = pair_stats_prob[best_pair]\n",
        "print(\"prob_merge_pair: \", prob_merge_pair)\n",
        "\n",
        "if prob_merge_pair > 0.005: # 0.015: dropout_ratio\n",
        "  new_vocab = merge_vocab(best_pair, vocab)\n",
        "  print(\"new_vocab: \", new_vocab)"
      ],
      "execution_count": 51,
      "outputs": [
        {
          "output_type": "stream",
          "name": "stdout",
          "text": [
            "best_pair:  ('e', 's')\n",
            "prob_merge_pair:  0.019774309284310326\n",
            "new_vocab:  {'l o w </w>': 5, 'l o w e r </w>': 2, 'n e w es t </w>': 6, 'w i d es t </w>': 3, 'h a p p i e r </w>': 2}\n"
          ]
        }
      ]
    },
    {
      "cell_type": "markdown",
      "metadata": {
        "id": "pl7mB0ABczv1"
      },
      "source": [
        "phần code ở trên thể hiện cho 1 iter bây giờ sẽ tăng số iter lên và xem kết quả"
      ]
    },
    {
      "cell_type": "code",
      "metadata": {
        "id": "_bq3s16BYldV"
      },
      "source": [
        "# vocab = {\n",
        "#     'l o w </w>': 5,\n",
        "#     'l o w e r </w>': 2,\n",
        "#     'n e w e s t </w>': 6,\n",
        "#     'w i d e s t </w>': 3,\n",
        "#     'h a p p i e r </w>': 2\n",
        "# }"
      ],
      "execution_count": 114,
      "outputs": []
    },
    {
      "cell_type": "code",
      "metadata": {
        "colab": {
          "base_uri": "https://localhost:8080/"
        },
        "id": "VeH1_ESMeC09",
        "outputId": "c6538d64-0320-4ab8-ae68-684139459a5e"
      },
      "source": [
        "bpe_codes = {}\n",
        "dropout_ratio = 0.005\n",
        "\n",
        "iter = 0\n",
        "while True:\n",
        "  pair_stats = get_pair_stats(vocab)\n",
        "  \n",
        "  pair_stats_prob = {}\n",
        "  for pair, freq in pair_stats.items():\n",
        "    prob_merge_pair = compute_pair_probability(pair)\n",
        "    if prob_merge_pair > dropout_ratio:\n",
        "      pair_stats_prob[pair] = prob_merge_pair\n",
        "  \n",
        "  if not pair_stats_prob:\n",
        "    break \n",
        "\n",
        "  if len(pair_stats_prob) > dropout_ratio:\n",
        "    best_pair = max(pair_stats_prob, key=pair_stats.get)\n",
        "    bpe_codes[best_pair] = iter\n",
        "    vocab = merge_vocab(best_pair, vocab)\n",
        "\n",
        "  iter += 1\n",
        "\n",
        "if len(bpe_codes) == 0:\n",
        "  pair_stats = get_pair_stats(vocab)\n",
        "  cnt = 0\n",
        "  for pair, _ in pair_stats.items():\n",
        "    bpe_codes[pair] = cnt\n",
        "    cnt += 1\n",
        "\n",
        "print(\"\\n vocab: \", vocab)\n",
        "print('byte pair encoding: ', bpe_codes)"
      ],
      "execution_count": 115,
      "outputs": [
        {
          "output_type": "stream",
          "name": "stdout",
          "text": [
            "\n",
            " vocab:  {'low </w>': 5, 'low er </w>': 2, 'newest </w>': 6, 'wi d est </w>': 3, 'h a p p i er </w>': 2}\n",
            "byte pair encoding:  {('e', 's'): 0, ('es', 't'): 1, ('l', 'o'): 2, ('lo', 'w'): 3, ('n', 'e'): 4, ('ne', 'w'): 5, ('new', 'est'): 6, ('e', 'r'): 7, ('w', 'i'): 8}\n"
          ]
        }
      ]
    },
    {
      "cell_type": "markdown",
      "metadata": {
        "id": "WJxl5uF8c4ne"
      },
      "source": [
        "# Encode"
      ]
    },
    {
      "cell_type": "code",
      "metadata": {
        "colab": {
          "base_uri": "https://localhost:8080/"
        },
        "id": "SmjjSJFQc511",
        "outputId": "47c89bec-ece3-4071-9141-14ca5b537e7c"
      },
      "source": [
        "original_word = 'lowest'\n",
        "word = list(original_word)\n",
        "word.append('</w>')\n",
        "word"
      ],
      "execution_count": 116,
      "outputs": [
        {
          "output_type": "execute_result",
          "data": {
            "text/plain": [
              "['l', 'o', 'w', 'e', 's', 't', '</w>']"
            ]
          },
          "metadata": {},
          "execution_count": 116
        }
      ]
    },
    {
      "cell_type": "code",
      "metadata": {
        "id": "_3JDzWoYdDXm"
      },
      "source": [
        "# lấy các cặp ký tự trong word input\n",
        "def get_pairs(word: List[str]) -> Set[Tuple[str, str]]:\n",
        "  pairs = set()\n",
        "  prev_char = word[0]\n",
        "  for char in word[1:]:\n",
        "    pairs.add((prev_char, char))\n",
        "    prev_char = char\n",
        "  \n",
        "  return pairs"
      ],
      "execution_count": 117,
      "outputs": []
    },
    {
      "cell_type": "code",
      "metadata": {
        "colab": {
          "base_uri": "https://localhost:8080/"
        },
        "id": "6_5aYbTFdEmG",
        "outputId": "55093cda-13b2-40a2-b2d4-5350f060bc31"
      },
      "source": [
        "pairs = get_pairs(word)\n",
        "pairs"
      ],
      "execution_count": 118,
      "outputs": [
        {
          "output_type": "execute_result",
          "data": {
            "text/plain": [
              "{('e', 's'), ('l', 'o'), ('o', 'w'), ('s', 't'), ('t', '</w>'), ('w', 'e')}"
            ]
          },
          "metadata": {},
          "execution_count": 118
        }
      ]
    },
    {
      "cell_type": "code",
      "metadata": {
        "colab": {
          "base_uri": "https://localhost:8080/"
        },
        "id": "J0w_3ShIdGfV",
        "outputId": "53d447db-af1a-4733-e452-a6a4caa6e85c"
      },
      "source": [
        "bpe_codes_pairs = [(pair, bpe_codes[pair]) for pair in pairs if pair in bpe_codes]\n",
        "print(\"bpe_codes_pairs: \", bpe_codes_pairs)\n",
        "pair_to_merge = min(bpe_codes_pairs, key=itemgetter(1))[0]\n",
        "print(\"pair_to_merge: \", pair_to_merge)"
      ],
      "execution_count": 119,
      "outputs": [
        {
          "output_type": "stream",
          "name": "stdout",
          "text": [
            "bpe_codes_pairs:  [(('e', 's'), 0), (('l', 'o'), 2)]\n",
            "pair_to_merge:  ('e', 's')\n"
          ]
        }
      ]
    },
    {
      "cell_type": "code",
      "metadata": {
        "id": "X08pEKIzdIhl"
      },
      "source": [
        "def create_new_word(word: List[str], pair_to_merge: Tuple[str, str]) -> List[str]:\n",
        "  first_char, second_char = pair_to_merge\n",
        "  new_word = []\n",
        "  i = 0\n",
        "  while i < len(word):\n",
        "    try:\n",
        "      j = word.index(first_char, i)\n",
        "      new_word.extend(word[i:j])\n",
        "      i = j\n",
        "    except:\n",
        "      new_word.extend(word[i:])\n",
        "      break \n",
        "    \n",
        "    if i < len(word)-1 and word[i+1] == second_char:\n",
        "      new_word.append(first_char + second_char)\n",
        "      i += 2\n",
        "    else:\n",
        "      new_word.append(first_char)\n",
        "      i += 1\n",
        "\n",
        "  return new_word"
      ],
      "execution_count": 120,
      "outputs": []
    },
    {
      "cell_type": "code",
      "metadata": {
        "colab": {
          "base_uri": "https://localhost:8080/"
        },
        "id": "gtkppCOndKH1",
        "outputId": "7ee774c5-88d0-4ee2-e354-5034965c1018"
      },
      "source": [
        "new_word = create_new_word(word, pair_to_merge)\n",
        "new_word"
      ],
      "execution_count": 121,
      "outputs": [
        {
          "output_type": "execute_result",
          "data": {
            "text/plain": [
              "['l', 'o', 'w', 'es', 't', '</w>']"
            ]
          },
          "metadata": {},
          "execution_count": 121
        }
      ]
    },
    {
      "cell_type": "markdown",
      "metadata": {
        "id": "1y2JeMe5dS3-"
      },
      "source": [
        "Phần code trên là quá trình thực hiện cho việc encode 1 từ qua 1 iter. Bây giờ thực hiện với nhiều iter."
      ]
    },
    {
      "cell_type": "code",
      "metadata": {
        "id": "-CI42GyPdTYt"
      },
      "source": [
        "def encode(original_word: str, bpe_codes: Dict[Tuple[str, str], int], len_word_split=1) -> List[str]:\n",
        "  if len(original_word) == len_word_split: # set kích thước tối thiểu của một từ cần phân tách.\n",
        "    return original_word\n",
        "  \n",
        "  word = list(original_word)\n",
        "  word.append('</w>')\n",
        "\n",
        "  while True:\n",
        "    pairs = get_pairs(word)\n",
        "    bpe_codes_pairs = [(pair, bpe_codes[pair]) for pair in pairs if pair in bpe_codes]\n",
        "    if not bpe_codes_pairs:\n",
        "        break\n",
        "\n",
        "    pair_to_merge = min(bpe_codes_pairs, key=itemgetter(1))[0]\n",
        "    word = create_new_word(word, pair_to_merge)\n",
        "  \n",
        "  return word"
      ],
      "execution_count": 122,
      "outputs": []
    },
    {
      "cell_type": "code",
      "metadata": {
        "colab": {
          "base_uri": "https://localhost:8080/"
        },
        "id": "yQ5bjebUdUv-",
        "outputId": "c96fff80-1741-4efe-af83-1a7bf34cafe6"
      },
      "source": [
        "original_word = 'lowest'\n",
        "encode(original_word, bpe_codes)"
      ],
      "execution_count": 123,
      "outputs": [
        {
          "output_type": "execute_result",
          "data": {
            "text/plain": [
              "['low', 'est', '</w>']"
            ]
          },
          "metadata": {},
          "execution_count": 123
        }
      ]
    }
  ]
}