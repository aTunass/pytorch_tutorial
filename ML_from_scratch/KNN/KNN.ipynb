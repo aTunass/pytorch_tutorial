{
  "nbformat": 4,
  "nbformat_minor": 0,
  "metadata": {
    "colab": {
      "name": "KNN.ipynb",
      "provenance": []
    },
    "kernelspec": {
      "name": "python3",
      "display_name": "Python 3"
    },
    "language_info": {
      "name": "python"
    }
  },
  "cells": [
    {
      "cell_type": "code",
      "metadata": {
        "id": "R3eUocn2D-sO"
      },
      "source": [
        "import torch\n",
        "from scipy.stats import mode\n",
        "from sklearn.datasets import load_iris\n",
        "from sklearn.model_selection import train_test_split\n",
        "from sklearn.metrics import accuracy_score"
      ],
      "execution_count": 1,
      "outputs": []
    },
    {
      "cell_type": "code",
      "metadata": {
        "id": "cSgiGJnvEfEO"
      },
      "source": [
        "class KNN:\n",
        "  def __init__(self, k, X):\n",
        "    \"\"\"\n",
        "      k: number of neighbors\n",
        "    \"\"\"\n",
        "    self.k = k\n",
        "  \n",
        "  def distance(self, point1, point2, default='euclidean', p=2):\n",
        "    if default == 'euclidean':\n",
        "      return torch.norm(point1-point2, 2, 0)\n",
        "    elif default == 'manhattan':\n",
        "      return torch.norm(torch.abs(point1-point2))\n",
        "    elif default == 'minkowski':\n",
        "      return torch.norm(torch.sum(torch.abs(point1-point2)**p), 1/p)\n",
        "    else:\n",
        "      raise ValueError('Unkown similarity distance type')\n",
        "  \n",
        "  def fit_predict(self, X, y, item):\n",
        "    \"\"\"\n",
        "      - Iterate through each datapoints (item/y_test) that needs to be classified\n",
        "      - Find distance between all train data points and each datapoint (item/y_test)\n",
        "        using D distance with D in [euclidean, manhattan, minkowski]\n",
        "      - Sort the distance using argsort, it gives indices of the y_test\n",
        "      - Find the majority label whose distance closest to each datapoint of y_test.\n",
        "\n",
        "      X: input tensor\n",
        "      y: ground truth label\n",
        "      item: tensors to be classified\n",
        "\n",
        "      return: predicted labels\n",
        "    \"\"\"\n",
        "    y_predict = []\n",
        "    for i in item:\n",
        "      point_distances = []\n",
        "      for ipt in range(X.shape[0]):\n",
        "        distances = self.distance(X[ipt,:], i)\n",
        "        point_distances.append(distances)\n",
        "\n",
        "      point_distances = torch.tensor(point_distances)\n",
        "      k_neighbors = torch.argsort(point_distances)[:self.k]\n",
        "      y_label = y[k_neighbors]\n",
        "      major_class = mode(y_label)\n",
        "      major_class = major_class.mode[0]\n",
        "      y_predict.append(major_class)\n",
        "    \n",
        "    return torch.tensor(y_predict)"
      ],
      "execution_count": 2,
      "outputs": []
    },
    {
      "cell_type": "code",
      "metadata": {
        "id": "V1b6coEtLST0"
      },
      "source": [
        "iris = load_iris()\n",
        "X = torch.tensor(iris.data)\n",
        "y = torch.tensor(iris.target)\n",
        "\n",
        "torch.manual_seed(0)\n",
        "X_train, X_test, y_train, y_test = train_test_split(X, y, test_size=0.2)\n",
        "model = KNN(5, X_train)\n",
        "y_pred = model.fit_predict(X_train, y_train, X_test)\n",
        "print(f'Accuracy: {accuracy_score(y_test, y_pred)}')"
      ],
      "execution_count": null,
      "outputs": []
    }
  ]
}